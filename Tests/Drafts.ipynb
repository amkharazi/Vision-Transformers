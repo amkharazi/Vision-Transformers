{
 "cells": [
  {
   "cell_type": "code",
   "execution_count": 1,
   "metadata": {},
   "outputs": [
    {
     "name": "stderr",
     "output_type": "stream",
     "text": [
      "/home/bady/Desktop/TAVERN/Tests/../Utils/TinyImageNet_loader.py:105: SyntaxWarning: \"is not\" with a literal. Did you mean \"!=\"?\n",
      "  if train_size is not  'default':\n"
     ]
    },
    {
     "ename": "ModuleNotFoundError",
     "evalue": "No module named 'Models.vit_base'",
     "output_type": "error",
     "traceback": [
      "\u001b[0;31m---------------------------------------------------------------------------\u001b[0m",
      "\u001b[0;31mModuleNotFoundError\u001b[0m                       Traceback (most recent call last)",
      "\u001b[0;32m/tmp/ipykernel_273835/1306455110.py\u001b[0m in \u001b[0;36m<module>\u001b[0;34m\u001b[0m\n\u001b[1;32m      6\u001b[0m \u001b[0;32mfrom\u001b[0m \u001b[0mUtils\u001b[0m\u001b[0;34m.\u001b[0m\u001b[0mTinyImageNet_loader\u001b[0m \u001b[0;32mimport\u001b[0m \u001b[0mget_tinyimagenet_dataloaders\u001b[0m\u001b[0;34m\u001b[0m\u001b[0;34m\u001b[0m\u001b[0m\n\u001b[1;32m      7\u001b[0m \u001b[0;32mfrom\u001b[0m \u001b[0mUtils\u001b[0m\u001b[0;34m.\u001b[0m\u001b[0mNum_parameter\u001b[0m \u001b[0;32mimport\u001b[0m \u001b[0mcount_parameters\u001b[0m\u001b[0;34m\u001b[0m\u001b[0;34m\u001b[0m\u001b[0m\n\u001b[0;32m----> 8\u001b[0;31m \u001b[0;32mfrom\u001b[0m \u001b[0mModels\u001b[0m\u001b[0;34m.\u001b[0m\u001b[0mvit_base\u001b[0m \u001b[0;32mimport\u001b[0m \u001b[0mVisionTransformer\u001b[0m \u001b[0;32mas\u001b[0m \u001b[0mvit_base\u001b[0m\u001b[0;34m\u001b[0m\u001b[0;34m\u001b[0m\u001b[0m\n\u001b[0m\u001b[1;32m      9\u001b[0m \u001b[0;32mfrom\u001b[0m \u001b[0mModels\u001b[0m\u001b[0;34m.\u001b[0m\u001b[0mvit_tensorized\u001b[0m \u001b[0;32mimport\u001b[0m \u001b[0mVisionTransformer\u001b[0m \u001b[0;32mas\u001b[0m \u001b[0mvit_tensorized\u001b[0m\u001b[0;34m\u001b[0m\u001b[0;34m\u001b[0m\u001b[0m\n\u001b[1;32m     10\u001b[0m \u001b[0;34m\u001b[0m\u001b[0m\n",
      "\u001b[0;31mModuleNotFoundError\u001b[0m: No module named 'Models.vit_base'"
     ]
    }
   ],
   "source": [
    "import sys\n",
    "sys.path.append('..')\n",
    "\n",
    "# Import Libraries\n",
    "from Utils.Accuracy_measures import topk_accuracy\n",
    "from Utils.TinyImageNet_loader import get_tinyimagenet_dataloaders\n",
    "from Utils.Num_parameter import count_parameters\n",
    "from Models.vit_base import VisionTransformer as vit_base\n",
    "from Models.vit_tensorized import VisionTransformer as vit_tensorized\n",
    "\n",
    "\n",
    "import torchvision.transforms as transforms\n",
    "from torch import nn\n",
    "from torch import optim\n",
    "\n",
    "import time\n",
    "import torch\n",
    "import os\n",
    "\n",
    "from torchvision.models import vit_b_16"
   ]
  },
  {
   "cell_type": "code",
   "execution_count": 4,
   "metadata": {},
   "outputs": [],
   "source": [
    " # Set up the transforms and train/test loaders\n",
    "image_size = 64\n",
    "import torchvision.transforms as transforms\n",
    "\n",
    "\n",
    "tiny_transform_train = transforms.Compose([\n",
    "        transforms.RandomHorizontalFlip(),\n",
    "        transforms.Resize((image_size, image_size)), \n",
    "        transforms.RandomCrop(image_size, padding=5),\n",
    "        transforms.RandomRotation(10),\n",
    "        transforms.ToTensor(),\n",
    "        transforms.Normalize((0.485, 0.456, 0.406), (0.229, 0.224, 0.225))\n",
    "    ])\n",
    "tiny_transform_val = transforms.Compose([\n",
    "        transforms.Resize((image_size, image_size)), \n",
    "        transforms.ToTensor(),\n",
    "        transforms.Normalize((0.485, 0.456, 0.406), (0.229, 0.224, 0.225))\n",
    "    ])\n",
    "tiny_transform_test = transforms.Compose([\n",
    "        transforms.Resize((image_size, image_size)), \n",
    "        transforms.ToTensor(),\n",
    "        transforms.Normalize((0.485, 0.456, 0.406), (0.229, 0.224, 0.225))\n",
    "    ])\n",
    "\n",
    "\n",
    "train_loader, test_loader, _ = get_tinyimagenet_dataloaders(\n",
    "                                                        data_dir = '../datasets',\n",
    "                                                        transform_train=tiny_transform_train,\n",
    "                                                        transform_val=tiny_transform_val,\n",
    "                                                        transform_test=tiny_transform_test,\n",
    "                                                        batch_size=64,\n",
    "                                                        image_size=image_size, \n",
    "                                                        train_size= 70000)"
   ]
  },
  {
   "cell_type": "code",
   "execution_count": 2,
   "metadata": {},
   "outputs": [
    {
     "name": "stdout",
     "output_type": "stream",
     "text": [
      "Current shape is : torch.Size([4, 3, 224, 224])\n",
      "4, 0.053879737854003906, 0.003330230712890625, 0.026360750198364258\n",
      "Current shape is : torch.Size([16, 3, 224, 224])\n",
      "16, 0.005127906799316406, 0.003444671630859375, 0.029513835906982422\n",
      "Current shape is : torch.Size([32, 3, 224, 224])\n",
      "32, 0.0051348209381103516, 0.003399372100830078, 0.05140089988708496\n",
      "Current shape is : torch.Size([64, 3, 224, 224])\n",
      "64, 0.00629115104675293, 0.0035674571990966797, 0.23940634727478027\n"
     ]
    }
   ],
   "source": [
    "for i in [4,16,32,64]:\n",
    "    device = 'cuda'\n",
    "    batch_size = i\n",
    "    dummy = torch.rand(batch_size, 3, 224, 224).to(device)\n",
    "    print(f'Current shape is : {dummy.shape}')\n",
    "\n",
    "    model1 = vit_b_16()\n",
    "    model1.heads = nn.Sequential(\n",
    "        nn.Linear(768,200)\n",
    "    )\n",
    "    model1 = model1.to(device)\n",
    "\n",
    "    model2 = vit_tensorized(input_size=(batch_size,3,224,224),\n",
    "                patch_size=16,\n",
    "                num_classes=200,\n",
    "                embed_dim=(16,16,3),\n",
    "                num_heads=(2,2,3),\n",
    "                num_layers=12,\n",
    "                mlp_dim=(32,32,3),\n",
    "                dropout=0.1,\n",
    "                bias=True,\n",
    "                out_embed=True,\n",
    "                device=device,\n",
    "                ignore_modes=(0,1,2),\n",
    "                Tensorized_mlp=True).to(device)\n",
    "\n",
    "    model3 = vit_base(input_size=(batch_size,3,224,224),\n",
    "                patch_size=16,\n",
    "                num_classes=200,\n",
    "                embed_dim=16*16*3,\n",
    "                num_heads=2*2*3,\n",
    "                num_layers=12,\n",
    "                mlp_dim=32*32*3,\n",
    "                dropout=0.1,\n",
    "                bias=True,\n",
    "                out_embed=True,\n",
    "                device=device,\n",
    "                ignore_modes=None,\n",
    "                Tensorized_mlp=False).to(device)\n",
    "    \n",
    "    st = time.time()\n",
    "    model1(dummy)\n",
    "    elapsed1 =  time.time() - st\n",
    "\n",
    "    st = time.time()\n",
    "    model2(dummy)\n",
    "    elapsed2 =  time.time() - st\n",
    "\n",
    "    st = time.time()\n",
    "    model3(dummy)\n",
    "    elapsed3 =  time.time() - st\n",
    "\n",
    "    print(f'{batch_size}, {elapsed1}, {elapsed3}, {elapsed2}')"
   ]
  }
 ],
 "metadata": {
  "kernelspec": {
   "display_name": "Python 3",
   "language": "python",
   "name": "python3"
  },
  "language_info": {
   "codemirror_mode": {
    "name": "ipython",
    "version": 3
   },
   "file_extension": ".py",
   "mimetype": "text/x-python",
   "name": "python",
   "nbconvert_exporter": "python",
   "pygments_lexer": "ipython3",
   "version": "3.10.12"
  }
 },
 "nbformat": 4,
 "nbformat_minor": 2
}
