{
 "cells": [
  {
   "cell_type": "code",
   "execution_count": 15,
   "metadata": {},
   "outputs": [
    {
     "name": "stdout",
     "output_type": "stream",
     "text": [
      "The autoreload extension is already loaded. To reload it, use:\n",
      "  %reload_ext autoreload\n"
     ]
    }
   ],
   "source": [
    "%load_ext autoreload\n",
    "%autoreload 2\n",
    "\n",
    "import sys\n",
    "sys.path.append('..')"
   ]
  },
  {
   "cell_type": "code",
   "execution_count": 16,
   "metadata": {},
   "outputs": [],
   "source": [
    "from Utils.Accuracy_measures import topk_accuracy\n",
    "from Utils.TinyImageNet_loader import get_tinyimagenet_dataloaders\n",
    "from Utils.num_parameter import count_parameters\n",
    "from Models.Resnet50 import Resnet50\n",
    "\n",
    "import torchvision.transforms as transforms\n",
    "from torch import nn\n",
    "from torch import optim\n",
    "\n",
    "import time\n",
    "import torch\n",
    "import os"
   ]
  },
  {
   "cell_type": "code",
   "execution_count": 17,
   "metadata": {},
   "outputs": [],
   "source": [
    "device = 'cpu'"
   ]
  },
  {
   "cell_type": "code",
   "execution_count": 18,
   "metadata": {},
   "outputs": [],
   "source": [
    "# Set up the transforms and train/test loaders\n",
    "image_size = 192\n",
    "\n",
    "tiny_transform_train = transforms.Compose([\n",
    "            transforms.RandomHorizontalFlip(),\n",
    "            transforms.RandomCrop(64, padding=4),\n",
    "            transforms.Resize((image_size, image_size)), \n",
    "            transforms.ToTensor(),\n",
    "            transforms.Normalize((0.485, 0.456, 0.406), (0.229, 0.224, 0.225))\n",
    "        ])\n",
    "tiny_transform_val = transforms.Compose([\n",
    "            transforms.Resize((image_size, image_size)), \n",
    "            transforms.ToTensor(),\n",
    "            transforms.Normalize((0.485, 0.456, 0.406), (0.229, 0.224, 0.225))\n",
    "        ])\n",
    "tiny_transform_test = transforms.Compose([\n",
    "            transforms.Resize((image_size, image_size)), \n",
    "            transforms.ToTensor(),\n",
    "            transforms.Normalize((0.485, 0.456, 0.406), (0.229, 0.224, 0.225))\n",
    "        ])\n",
    "\n",
    "\n",
    "train_loader, test_loader, _ = get_tinyimagenet_dataloaders(\n",
    "                                                        data_dir = '../datasets',\n",
    "                                                        transform_train=tiny_transform_train,\n",
    "                                                        transform_val=tiny_transform_val,\n",
    "                                                        transform_test=tiny_transform_test,\n",
    "                                                        batch_size=64,\n",
    "                                                        image_size=192)"
   ]
  },
  {
   "cell_type": "code",
   "execution_count": 20,
   "metadata": {},
   "outputs": [
    {
     "name": "stdout",
     "output_type": "stream",
     "text": [
      "This Model has 24245322 parameters\n",
      "This Model has 737290 classifier parameters\n"
     ]
    }
   ],
   "source": [
    "model= Resnet50(pretrained=True,\n",
    "                          weights_path='../weights/resnet50_weights.pth',\n",
    "                          input_shape=(192,192),\n",
    "                          num_classes=10,\n",
    "                          avg_pool=False,\n",
    "                          new_classifier=None)\n",
    "    \n",
    "num_parameters = count_parameters(model)\n",
    "classifier_parameters = count_parameters(model.fc)\n",
    "print(f'This Model has {num_parameters} parameters')\n",
    "print(f'This Model has {classifier_parameters} classifier parameters')\n",
    "\n",
    "criterion = nn.CrossEntropyLoss()\n",
    "optimizer = optim.Adam(model.parameters())"
   ]
  },
  {
   "cell_type": "code",
   "execution_count": 23,
   "metadata": {},
   "outputs": [
    {
     "data": {
      "text/plain": [
       "torch.Size([10, 2048, 6, 6])"
      ]
     },
     "execution_count": 23,
     "metadata": {},
     "output_type": "execute_result"
    }
   ],
   "source": [
    "from Models.Resnet50 import out_shape_resnet50\n",
    "\n",
    "out_shape_resnet50(in_shape=(192,192), batch_size= 10)"
   ]
  },
  {
   "cell_type": "code",
   "execution_count": null,
   "metadata": {},
   "outputs": [],
   "source": [
    "import tltorch\n",
    "trl = tltorch.TRL(input_shape=(2048,6,6), output_shape=(10), factorization='Tucker')\n",
    "\n"
   ]
  },
  {
   "cell_type": "code",
   "execution_count": null,
   "metadata": {},
   "outputs": [],
   "source": [
    "import tltorch\n",
    "new_classifier = nn.Sequential(\n",
    "    \n",
    "    \n",
    ")"
   ]
  },
  {
   "cell_type": "code",
   "execution_count": null,
   "metadata": {},
   "outputs": [],
   "source": [
    "model2 = Resnet50(pretrained=True,\n",
    "                          weights_path='../weights/resnet50_weights.pth',\n",
    "                          input_shape=(192,192),\n",
    "                          num_classes=10,\n",
    "                          avg_pool=False,\n",
    "                          new_classifier=None).to(device)"
   ]
  }
 ],
 "metadata": {
  "kernelspec": {
   "display_name": "Python 3",
   "language": "python",
   "name": "python3"
  },
  "language_info": {
   "codemirror_mode": {
    "name": "ipython",
    "version": 3
   },
   "file_extension": ".py",
   "mimetype": "text/x-python",
   "name": "python",
   "nbconvert_exporter": "python",
   "pygments_lexer": "ipython3",
   "version": "3.10.0"
  }
 },
 "nbformat": 4,
 "nbformat_minor": 2
}
