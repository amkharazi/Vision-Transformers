{
 "cells": [
  {
   "cell_type": "code",
   "execution_count": 1,
   "metadata": {},
   "outputs": [],
   "source": [
    "%load_ext autoreload\n",
    "%autoreload 2\n",
    "\n",
    "import sys\n",
    "sys.path.append('..')"
   ]
  },
  {
   "cell_type": "code",
   "execution_count": 2,
   "metadata": {},
   "outputs": [],
   "source": [
    "import torch.nn as nn\n",
    "import torch\n",
    "import time\n"
   ]
  },
  {
   "cell_type": "code",
   "execution_count": 9,
   "metadata": {},
   "outputs": [],
   "source": [
    "class TRL(nn.Module):\n",
    "    def __init__(self, input_size, output, rank, ignore_modes = (0,), bias = True, device = 'cpu'):\n",
    "        super(TRL, self).__init__()\n",
    "        \n",
    "        alphabet = 'abcdefghijklmnopqrstuvwxyzABCDEFGHIJKLMNOPQERSUVWXYZ'\n",
    "        self.device = device\n",
    "        self.bias = bias\n",
    "        \n",
    "        if isinstance(input_size, int):\n",
    "            self.input_size = (input_size, )\n",
    "        else:\n",
    "            self.input_size = tuple(input_size)\n",
    "            \n",
    "        if isinstance(output, int):\n",
    "            self.output = (output, )\n",
    "        else:\n",
    "            self.output = tuple(output)\n",
    "        \n",
    "        if isinstance(rank, int):\n",
    "            self.rank = (rank, )\n",
    "        else:\n",
    "            self.rank = tuple(rank)\n",
    "        \n",
    "        self.ignore_modes = ignore_modes\n",
    "        \n",
    "        # remove ignored modes from the input size\n",
    "        new_size = []\n",
    "        for i in range(len(self.input_size)):\n",
    "            if i in self.ignore_modes:\n",
    "                continue\n",
    "            else:\n",
    "                new_size.append(self.input_size[i])\n",
    "        \n",
    "        self.w_size = tuple(new_size) + self.output\n",
    "        if self.bias:\n",
    "            self.b = nn.Parameter(torch.randn(self.output), requires_grad=True)\n",
    "        else:\n",
    "            self.b = None\n",
    "            \n",
    "        # Tucker Decomposition method for TRL\n",
    "        \n",
    "        self.core = nn.Parameter(torch.randn(self.rank), requires_grad=True)\n",
    "                           \n",
    "        # List of all factors\n",
    "        parameter_list = []\n",
    "        for i,r in enumerate(self.rank):\n",
    "            parameter_list.append(nn.Parameter(torch.randn(r, self.w_size[i]), requires_grad=True))\n",
    "        self.factors = nn.ParameterList().extend(parameter_list)\n",
    "        \n",
    "        # Generate formula for w :\n",
    "        \n",
    "        index = 0\n",
    "        formula = ''\n",
    "        core_str = ''\n",
    "        w_str = ''\n",
    "        for i in range(len(self.core.shape)):\n",
    "            formula+=alphabet[index]\n",
    "            index+=1\n",
    "            if i== len(self.core.shape) - 1:\n",
    "                formula+=','\n",
    "        core_str = formula[:len(formula)-1]\n",
    "                \n",
    "        for l,_ in enumerate(self.factors):\n",
    "            formula+=core_str[l]\n",
    "            formula+=alphabet[index]\n",
    "            w_str+=alphabet[index]\n",
    "            index+=1\n",
    "            if l < len(self.factors) - 1:\n",
    "                formula+=','\n",
    "            elif l == len(self.factors) - 1:\n",
    "                    formula+='->'\n",
    "        \n",
    "        formula+=w_str\n",
    "        # print(formula)\n",
    "        \n",
    "        self.w_formula = formula        \n",
    "        self.w = torch.einsum(self.w_formula, (tuple([self.core] + [f for f in self.factors]))).to(self.device)\n",
    "        \n",
    "        \n",
    "        # Generate formula for Generalized Inner Product of W and X:\n",
    "        index = 0\n",
    "        formula = ''\n",
    "        mul = ''\n",
    "        out_str = ''\n",
    "        extend_str =''\n",
    "        for i in range(len(self.input_size)):\n",
    "            formula+=alphabet[index]\n",
    "            if i not in self.ignore_modes:\n",
    "                mul+= alphabet[index]\n",
    "            else:\n",
    "                extend_str+= alphabet[index]\n",
    "            index+=1\n",
    "            if i== len(self.input_size) - 1:\n",
    "                formula+=','\n",
    "        \n",
    "        formula+=mul\n",
    "        for i in range(len(mul),len(self.w_size)):\n",
    "            formula+=alphabet[index]\n",
    "            out_str+=alphabet[index]\n",
    "            index+=1\n",
    "            if i== len(self.w_size) - 1:\n",
    "                formula+='->'\n",
    "         \n",
    "        formula+=extend_str+out_str       \n",
    "        self.out_formula = formula\n",
    "        # print(formula)\n",
    "        \n",
    "    def forward(self, x):\n",
    "        out = torch.einsum(self.out_formula, (x, self.w)).to(self.device)\n",
    "        out += self.b \n",
    "        return out"
   ]
  },
  {
   "cell_type": "code",
   "execution_count": 11,
   "metadata": {},
   "outputs": [
    {
     "name": "stdout",
     "output_type": "stream",
     "text": [
      "0.0439763069152832\n"
     ]
    },
    {
     "data": {
      "text/plain": [
       "torch.Size([5, 14, 14, 16, 16, 3])"
      ]
     },
     "execution_count": 11,
     "metadata": {},
     "output_type": "execute_result"
    }
   ],
   "source": [
    "st = time.time()\n",
    "trl = TRL(input_size=(5,14,14,16,16,3), output=(16,16,3), rank=(16,16,3,16,16,3), ignore_modes=(0,1,2), device = 'cuda').to('cuda')\n",
    "t = torch.randn(5,14,14,16,16,3).to('cuda')\n",
    "output = trl(t)\n",
    "elapsed = time.time() - st\n",
    "print(elapsed)\n",
    "output.shape"
   ]
  }
 ],
 "metadata": {
  "kernelspec": {
   "display_name": "Python 3",
   "language": "python",
   "name": "python3"
  },
  "language_info": {
   "codemirror_mode": {
    "name": "ipython",
    "version": 3
   },
   "file_extension": ".py",
   "mimetype": "text/x-python",
   "name": "python",
   "nbconvert_exporter": "python",
   "pygments_lexer": "ipython3",
   "version": "3.10.0"
  }
 },
 "nbformat": 4,
 "nbformat_minor": 2
}
