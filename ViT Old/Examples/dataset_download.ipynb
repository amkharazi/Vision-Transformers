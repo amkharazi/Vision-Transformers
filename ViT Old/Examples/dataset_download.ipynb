{
 "cells": [
  {
   "cell_type": "markdown",
   "metadata": {},
   "source": [
    "# Add to the path"
   ]
  },
  {
   "cell_type": "code",
   "execution_count": 1,
   "metadata": {},
   "outputs": [],
   "source": [
    "%load_ext autoreload\n",
    "%autoreload 2\n",
    "\n",
    "import sys\n",
    "sys.path.append('..')"
   ]
  },
  {
   "cell_type": "markdown",
   "metadata": {},
   "source": [
    "# Import Libraries"
   ]
  },
  {
   "cell_type": "code",
   "execution_count": 7,
   "metadata": {},
   "outputs": [],
   "source": [
    "from Datasets import download_cifar10, download_mnist, download_tiny_imagenet"
   ]
  },
  {
   "cell_type": "code",
   "execution_count": 8,
   "metadata": {},
   "outputs": [
    {
     "name": "stdout",
     "output_type": "stream",
     "text": [
      "Downloading CIFAR-10 dataset...\n",
      "Files already downloaded and verified\n",
      "CIFAR-10 dataset downloaded successfully.\n",
      "Downloading MNIST dataset...\n",
      "MNIST dataset downloaded successfully.\n",
      "Downloading TinyImageNet dataset...\n",
      "TinyImageNet dataset downloaded successfully.\n"
     ]
    }
   ],
   "source": [
    "root = '../datasets' # use the current directory path to navigate the location\n",
    "download_cifar10(save_dir = root)\n",
    "download_mnist(save_dir = root)\n",
    "download_tiny_imagenet(save_dir = root)"
   ]
  },
  {
   "cell_type": "code",
   "execution_count": null,
   "metadata": {},
   "outputs": [],
   "source": [
    "# Or use the parser and run from console\n",
    "# python Datasets.py --dataset cifar10 --save_dir ./dataset\n",
    "# python Datasets.py --dataset mnist --save_dir ./dataset\n",
    "# python Datasets.py --dataset tiny_imagenet --save_dir ./dataset"
   ]
  },
  {
   "cell_type": "markdown",
   "metadata": {},
   "source": [
    "# Download all via parser"
   ]
  },
  {
   "cell_type": "code",
   "execution_count": null,
   "metadata": {},
   "outputs": [],
   "source": [
    "# Download all with default save directory (or use --save_dir if you need to change it)\n",
    "# python Datasets.py"
   ]
  }
 ],
 "metadata": {
  "kernelspec": {
   "display_name": "Python 3",
   "language": "python",
   "name": "python3"
  },
  "language_info": {
   "codemirror_mode": {
    "name": "ipython",
    "version": 3
   },
   "file_extension": ".py",
   "mimetype": "text/x-python",
   "name": "python",
   "nbconvert_exporter": "python",
   "pygments_lexer": "ipython3",
   "version": "3.10.0"
  }
 },
 "nbformat": 4,
 "nbformat_minor": 2
}
