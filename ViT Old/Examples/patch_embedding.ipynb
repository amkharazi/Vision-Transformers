{
 "cells": [
  {
   "cell_type": "markdown",
   "metadata": {},
   "source": [
    "# Add to the path"
   ]
  },
  {
   "cell_type": "code",
   "execution_count": 1,
   "metadata": {},
   "outputs": [],
   "source": [
    "%load_ext autoreload\n",
    "%autoreload 2\n",
    "\n",
    "import sys\n",
    "sys.path.append('..')"
   ]
  },
  {
   "cell_type": "markdown",
   "metadata": {},
   "source": [
    "# Import Libraries"
   ]
  },
  {
   "cell_type": "code",
   "execution_count": 2,
   "metadata": {},
   "outputs": [],
   "source": [
    "from Models.basic_components.patch_embedding import PatchEmbedding as base_embedding\n",
    "from Models.tensorized_components.patch_embedding import PatchEmbedding as tensorized_embedding\n",
    "from Utils.Num_parameter import count_parameters\n",
    "\n",
    "import torch\n",
    "import torch.nn as nn\n",
    "from torch import optim\n",
    "import time"
   ]
  },
  {
   "cell_type": "markdown",
   "metadata": {},
   "source": [
    "# Dummy Data"
   ]
  },
  {
   "cell_type": "code",
   "execution_count": 3,
   "metadata": {},
   "outputs": [
    {
     "name": "stdout",
     "output_type": "stream",
     "text": [
      "Current shape is : torch.Size([16, 3, 224, 224])\n"
     ]
    }
   ],
   "source": [
    "device = 'cuda'\n",
    "batch_size = 16\n",
    "dummy = torch.rand(batch_size, 3, 224, 224).to(device)\n",
    "print(f'Current shape is : {dummy.shape}')"
   ]
  },
  {
   "cell_type": "markdown",
   "metadata": {},
   "source": [
    "# Patch Embedding Base method"
   ]
  },
  {
   "cell_type": "code",
   "execution_count": 4,
   "metadata": {},
   "outputs": [
    {
     "name": "stdout",
     "output_type": "stream",
     "text": [
      "output shape of patch embedding : torch.Size([16, 196, 768])\n",
      "number of patches = 196\n",
      "This embedding has 590592 parameters\n",
      "This embedding took : 0.26371049880981445\n"
     ]
    }
   ],
   "source": [
    "st = time.time()\n",
    "embedding = base_embedding(input_size=dummy.shape,\n",
    "                           patch_size = 16,\n",
    "                           embed_dim= 16*16*3,\n",
    "                           bias=True,\n",
    "                           device=device,\n",
    "                           ignore_modes=None).to(device)\n",
    "embedded = embedding(dummy)\n",
    "elapsed = time.time() - st\n",
    "print(f'output shape of patch embedding : {embedded.shape}\\nnumber of patches = {embedded.shape[1]}')\n",
    "\n",
    "print(f'This embedding has {count_parameters(embedding)} parameters')\n",
    "print(f'This embedding took : {elapsed}')"
   ]
  },
  {
   "cell_type": "code",
   "execution_count": 5,
   "metadata": {},
   "outputs": [
    {
     "name": "stdout",
     "output_type": "stream",
     "text": [
      "projection.weight\n",
      "projection.bias\n"
     ]
    }
   ],
   "source": [
    "for key in embedding.state_dict():\n",
    "    print(key)"
   ]
  },
  {
   "cell_type": "code",
   "execution_count": 6,
   "metadata": {},
   "outputs": [
    {
     "name": "stdout",
     "output_type": "stream",
     "text": [
      "torch.Size([768, 768]) cuda:0 cuda:0\n",
      "torch.Size([768]) cuda:0 cuda:0\n",
      "second backward\n",
      "torch.Size([768, 768]) cuda:0 cuda:0\n",
      "torch.Size([768]) cuda:0 cuda:0\n"
     ]
    }
   ],
   "source": [
    "new_classifier = nn.Sequential(\n",
    "    embedding,\n",
    "    nn.Flatten(),\n",
    "    nn.Linear(150528,2)\n",
    ").to(device)\n",
    "\n",
    "criterion = nn.CrossEntropyLoss()\n",
    "optimizer = optim.Adam(new_classifier.parameters())\n",
    "\n",
    "temp_y = torch.randint(0, 2, (embedded.shape[0],)).to(device)\n",
    "\n",
    "optimizer.zero_grad()    \n",
    "outputs = new_classifier(dummy)\n",
    "loss = criterion(outputs, temp_y)\n",
    "loss.backward()\n",
    "for p in embedding.parameters():\n",
    "    print(p.shape, p.device, p.grad.device)\n",
    "optimizer.step()\n",
    "\n",
    "print('second backward')\n",
    "optimizer.zero_grad()    \n",
    "outputs = new_classifier(dummy)\n",
    "loss = criterion(outputs, temp_y)\n",
    "loss.backward()\n",
    "for p in embedding.parameters():\n",
    "    print(p.shape, p.device, p.grad.device)\n",
    "optimizer.step()"
   ]
  },
  {
   "cell_type": "markdown",
   "metadata": {},
   "source": [
    "# Patch Embedding Tensorized method"
   ]
  },
  {
   "cell_type": "code",
   "execution_count": 7,
   "metadata": {},
   "outputs": [
    {
     "name": "stdout",
     "output_type": "stream",
     "text": [
      "output shape of patch embedding : torch.Size([16, 14, 14, 16, 16, 3])\n",
      "number pf patches = 14 x 14 = 196\n",
      "This embedding has 1289 parameters\n",
      "This embedding took : 0.006803750991821289\n"
     ]
    }
   ],
   "source": [
    "st = time.time()\n",
    "embedding = tensorized_embedding(input_size=dummy.shape,\n",
    "                                 patch_size = 16,\n",
    "                                 embed_dim= (16,16,3),\n",
    "                                 bias=True,\n",
    "                                 device=device,\n",
    "                                 ignore_modes=(0,1,2)).to(device)\n",
    "embedded = embedding(dummy)\n",
    "elapsed = time.time() - st\n",
    "print(f'output shape of patch embedding : {embedded.shape}\\nnumber pf patches = {embedded.shape[1]} x {embedded.shape[2]} = {embedded.shape[1]*embedded.shape[2]}')\n",
    "\n",
    "print(f'This embedding has {count_parameters(embedding)} parameters')\n",
    "print(f'This embedding took : {elapsed}')"
   ]
  },
  {
   "cell_type": "code",
   "execution_count": 8,
   "metadata": {},
   "outputs": [
    {
     "name": "stdout",
     "output_type": "stream",
     "text": [
      "tcl.b\n",
      "tcl.u0\n",
      "tcl.u1\n",
      "tcl.u2\n"
     ]
    }
   ],
   "source": [
    "for key in embedding.state_dict():\n",
    "    print(key)"
   ]
  },
  {
   "cell_type": "code",
   "execution_count": 9,
   "metadata": {},
   "outputs": [
    {
     "name": "stdout",
     "output_type": "stream",
     "text": [
      "torch.Size([16, 16, 3]) cuda:0 cuda:0\n",
      "torch.Size([16, 16]) cuda:0 cuda:0\n",
      "torch.Size([16, 16]) cuda:0 cuda:0\n",
      "torch.Size([3, 3]) cuda:0 cuda:0\n",
      "second backward\n",
      "torch.Size([16, 16, 3]) cuda:0 cuda:0\n",
      "torch.Size([16, 16]) cuda:0 cuda:0\n",
      "torch.Size([16, 16]) cuda:0 cuda:0\n",
      "torch.Size([3, 3]) cuda:0 cuda:0\n"
     ]
    }
   ],
   "source": [
    "new_classifier = nn.Sequential(\n",
    "    embedding,\n",
    "    nn.Flatten(),\n",
    "    nn.Linear(150528,2)\n",
    ").to(device)\n",
    "\n",
    "criterion = nn.CrossEntropyLoss()\n",
    "optimizer = optim.Adam(new_classifier.parameters())\n",
    "\n",
    "temp_y = torch.randint(0, 2, (embedded.shape[0],)).to(device)\n",
    "\n",
    "optimizer.zero_grad()    \n",
    "outputs = new_classifier(dummy)\n",
    "loss = criterion(outputs, temp_y)\n",
    "loss.backward()\n",
    "for p in embedding.parameters():\n",
    "    print(p.shape, p.device, p.grad.device)\n",
    "optimizer.step()\n",
    "\n",
    "print('second backward')\n",
    "optimizer.zero_grad()    \n",
    "outputs = new_classifier(dummy)\n",
    "loss = criterion(outputs, temp_y)\n",
    "loss.backward()\n",
    "for p in embedding.parameters():\n",
    "    print(p.shape, p.device, p.grad.device)\n",
    "optimizer.step()"
   ]
  }
 ],
 "metadata": {
  "kernelspec": {
   "display_name": "Python 3",
   "language": "python",
   "name": "python3"
  },
  "language_info": {
   "codemirror_mode": {
    "name": "ipython",
    "version": 3
   },
   "file_extension": ".py",
   "mimetype": "text/x-python",
   "name": "python",
   "nbconvert_exporter": "python",
   "pygments_lexer": "ipython3",
   "version": "3.10.12"
  }
 },
 "nbformat": 4,
 "nbformat_minor": 2
}
