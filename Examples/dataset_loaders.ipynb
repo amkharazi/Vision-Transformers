{
 "cells": [
  {
   "cell_type": "markdown",
   "metadata": {},
   "source": [
    "# Add to the path"
   ]
  },
  {
   "cell_type": "code",
   "execution_count": 1,
   "metadata": {},
   "outputs": [],
   "source": [
    "%load_ext autoreload\n",
    "%autoreload 2\n",
    "\n",
    "import sys\n",
    "sys.path.append('..')"
   ]
  },
  {
   "cell_type": "markdown",
   "metadata": {},
   "source": [
    "# Import Libraries"
   ]
  },
  {
   "cell_type": "code",
   "execution_count": 2,
   "metadata": {},
   "outputs": [],
   "source": [
    "from Utils.Cifar10_loader import get_cifar10_dataloaders\n",
    "from Utils.Mnist_loader import get_mnist_dataloaders\n",
    "from Utils.TinyImageNet_loader import get_tinyimagenet_dataloaders, label_names_train\n",
    "\n",
    "import torchvision.transforms as transforms"
   ]
  },
  {
   "cell_type": "markdown",
   "metadata": {},
   "source": [
    "# Cifar10 loaders\n",
    "\n",
    "Typical of pytorch torchvision data loaders"
   ]
  },
  {
   "cell_type": "code",
   "execution_count": 3,
   "metadata": {},
   "outputs": [],
   "source": [
    "image_size = 192\n",
    "\n",
    "cifar10_transform_train = transforms.Compose([\n",
    "            transforms.RandomHorizontalFlip(),\n",
    "            transforms.RandomCrop(32, padding=2),\n",
    "            transforms.Resize((image_size, image_size)), \n",
    "            transforms.ToTensor(),\n",
    "            transforms.Normalize((0.5, 0.5, 0.5), (0.5, 0.5, 0.5))\n",
    "        ])\n",
    "\n",
    "cifar10_transform_test = transforms.Compose([\n",
    "            transforms.Resize((image_size, image_size)), \n",
    "            transforms.ToTensor(),\n",
    "            transforms.Normalize((0.5, 0.5, 0.5), (0.5, 0.5, 0.5))\n",
    "        ])"
   ]
  },
  {
   "cell_type": "code",
   "execution_count": 4,
   "metadata": {},
   "outputs": [],
   "source": [
    "cifar10_train_loader, cifar10_test_loader = get_cifar10_dataloaders(data_dir = '../datasets',\n",
    "                                                                    batch_size = 64,\n",
    "                                                                    image_size = 192,\n",
    "                                                                    transform_train = cifar10_transform_train ,\n",
    "                                                                    transform_test = cifar10_transform_test)"
   ]
  },
  {
   "cell_type": "code",
   "execution_count": 14,
   "metadata": {},
   "outputs": [
    {
     "name": "stdout",
     "output_type": "stream",
     "text": [
      "cifar10 train dataset length : 50000\n",
      "cifar10 test dataset length : 10000\n",
      "cifar10 one batch size-train : torch.Size([64, 3, 192, 192])\n",
      "cifar10 one batch size-test : torch.Size([64, 3, 192, 192])\n"
     ]
    }
   ],
   "source": [
    "print(f'cifar10 train dataset length : {len(cifar10_train_loader.dataset)}')\n",
    "print(f'cifar10 test dataset length : {len(cifar10_test_loader.dataset)}')\n",
    "for x,y in cifar10_train_loader:\n",
    "    break\n",
    "print(f'cifar10 one batch size-train : {x.shape}')\n",
    "for x,y in cifar10_test_loader:\n",
    "    break\n",
    "print(f'cifar10 one batch size-test : {x.shape}')"
   ]
  },
  {
   "cell_type": "markdown",
   "metadata": {},
   "source": [
    "# Mnist loaders\n",
    "\n",
    "Typical of pytorch torchvision data loaders"
   ]
  },
  {
   "cell_type": "code",
   "execution_count": 9,
   "metadata": {},
   "outputs": [],
   "source": [
    "image_size = 192\n",
    "\n",
    "mnist_transform_train = transforms.Compose([\n",
    "            transforms.Grayscale(num_output_channels=3),\n",
    "            transforms.RandomHorizontalFlip(),\n",
    "            transforms.RandomCrop(32, padding=2),\n",
    "            transforms.Resize((image_size, image_size)),  \n",
    "            transforms.ToTensor(),\n",
    "            transforms.Normalize((0.5, 0.5, 0.5), (0.5, 0.5, 0.5))\n",
    "        ])\n",
    "\n",
    "mnist_transform_test = transforms.Compose([\n",
    "            transforms.Resize((image_size, image_size)), \n",
    "            transforms.Grayscale(num_output_channels=3), \n",
    "            transforms.ToTensor(),\n",
    "            transforms.Normalize((0.5, 0.5, 0.5), (0.5, 0.5, 0.5))\n",
    "        ])"
   ]
  },
  {
   "cell_type": "code",
   "execution_count": 11,
   "metadata": {},
   "outputs": [],
   "source": [
    "mnist_train_loader, mnist_test_loader = get_mnist_dataloaders(data_dir = '../datasets',\n",
    "                                                                    batch_size = 64,\n",
    "                                                                    image_size = 192,\n",
    "                                                                    transform_train = mnist_transform_train ,\n",
    "                                                                    transform_test = mnist_transform_test)"
   ]
  },
  {
   "cell_type": "code",
   "execution_count": 13,
   "metadata": {},
   "outputs": [
    {
     "name": "stdout",
     "output_type": "stream",
     "text": [
      "mnist train dataset length : 60000\n",
      "mnist test dataset length : 10000\n",
      "mnist one batch size-train : torch.Size([64, 3, 192, 192])\n",
      "mnist one batch size-test : torch.Size([64, 3, 192, 192])\n"
     ]
    }
   ],
   "source": [
    "print(f'mnist train dataset length : {len(mnist_train_loader.dataset)}')\n",
    "print(f'mnist test dataset length : {len(mnist_test_loader.dataset)}')\n",
    "for x,y in mnist_train_loader:\n",
    "    break\n",
    "print(f'mnist one batch size-train : {x.shape}')\n",
    "for x,y in mnist_test_loader:\n",
    "    break\n",
    "print(f'mnist one batch size-test : {x.shape}')"
   ]
  },
  {
   "cell_type": "markdown",
   "metadata": {},
   "source": [
    "# TinyImageNet loaders\n",
    "\n",
    "label_names_train functions returns 2 dictionaries for labels used in tiny imagenet and their class index as well a tool to navigate between these two values and their description"
   ]
  },
  {
   "cell_type": "code",
   "execution_count": 15,
   "metadata": {},
   "outputs": [],
   "source": [
    "labels, indices = label_names_train(root_dir = '../datasets')\n",
    "# labels\n",
    "# indices"
   ]
  },
  {
   "cell_type": "code",
   "execution_count": 16,
   "metadata": {},
   "outputs": [],
   "source": [
    "image_size = 192\n",
    "\n",
    "tiny_transform_train = transforms.Compose([\n",
    "            transforms.RandomHorizontalFlip(),\n",
    "            transforms.RandomCrop(64, padding=4),\n",
    "            transforms.Resize((image_size, image_size)), \n",
    "            transforms.ToTensor(),\n",
    "            transforms.Normalize((0.485, 0.456, 0.406), (0.229, 0.224, 0.225))\n",
    "        ])\n",
    "tiny_transform_val = transforms.Compose([\n",
    "            transforms.Resize((image_size, image_size)), \n",
    "            transforms.ToTensor(),\n",
    "            transforms.Normalize((0.485, 0.456, 0.406), (0.229, 0.224, 0.225))\n",
    "        ])\n",
    "tiny_transform_test = transforms.Compose([\n",
    "            transforms.Resize((image_size, image_size)), \n",
    "            transforms.ToTensor(),\n",
    "            transforms.Normalize((0.485, 0.456, 0.406), (0.229, 0.224, 0.225))\n",
    "        ])"
   ]
  },
  {
   "cell_type": "code",
   "execution_count": 17,
   "metadata": {},
   "outputs": [],
   "source": [
    "tiny_train_loader, tiny_val_loader, tiny_test_loader = get_tinyimagenet_dataloaders(data_dir = '../datasets',\n",
    "                                                                                    transform_train=tiny_transform_train,\n",
    "                                                                                    transform_val=tiny_transform_val,\n",
    "                                                                                    transform_test=tiny_transform_test,\n",
    "                                                                                    batch_size=64,\n",
    "                                                                                    image_size=192)"
   ]
  },
  {
   "cell_type": "code",
   "execution_count": 20,
   "metadata": {},
   "outputs": [
    {
     "name": "stdout",
     "output_type": "stream",
     "text": [
      "tiny imagenet 200 train dataset length : 100000\n",
      "tiny imagenet 200 val dataset length : 10000\n",
      "tiny imagenet 200 test dataset length (no target value) : 10000\n",
      "tiny-imagenet one batch size-train : torch.Size([64, 3, 192, 192])\n",
      "tiny-imagenet one batch size-val : torch.Size([64, 3, 192, 192])\n",
      "tiny-imagenet one batch size-test : torch.Size([64, 3, 192, 192])\n"
     ]
    }
   ],
   "source": [
    "print(f'tiny imagenet 200 train dataset length : {len(tiny_train_loader.dataset)}')\n",
    "print(f'tiny imagenet 200 val dataset length : {len(tiny_val_loader.dataset)}')\n",
    "print(f'tiny imagenet 200 test dataset length (no target value) : {len(tiny_test_loader.dataset)}')\n",
    "for x,y in tiny_train_loader:\n",
    "    break\n",
    "print(f'tiny-imagenet one batch size-train : {x.shape}')\n",
    "for x,y in tiny_val_loader:\n",
    "    break\n",
    "print(f'tiny-imagenet one batch size-val : {x.shape}')\n",
    "for x in tiny_test_loader:\n",
    "    break\n",
    "print(f'tiny-imagenet one batch size-test : {x.shape}')"
   ]
  },
  {
   "cell_type": "markdown",
   "metadata": {},
   "source": [
    "Example of using labels to identify class names for train or validation sets:"
   ]
  },
  {
   "cell_type": "code",
   "execution_count": 21,
   "metadata": {},
   "outputs": [
    {
     "name": "stdout",
     "output_type": "stream",
     "text": [
      "tensor(0)\n",
      "tensor(107)\n",
      "['n01443537', 'goldfish, Carassius auratus']\n",
      "['n03444034', 'go-kart']\n"
     ]
    }
   ],
   "source": [
    "for x1,y1 in tiny_train_loader:\n",
    "    break\n",
    "for x2,y2 in tiny_val_loader:\n",
    "    break\n",
    "\n",
    "print(y1[0])\n",
    "print(y2[0])\n",
    "print(indices[y1[0].item()])\n",
    "print(indices[y2[0].item()])"
   ]
  }
 ],
 "metadata": {
  "kernelspec": {
   "display_name": "Python 3",
   "language": "python",
   "name": "python3"
  },
  "language_info": {
   "codemirror_mode": {
    "name": "ipython",
    "version": 3
   },
   "file_extension": ".py",
   "mimetype": "text/x-python",
   "name": "python",
   "nbconvert_exporter": "python",
   "pygments_lexer": "ipython3",
   "version": "3.10.0"
  }
 },
 "nbformat": 4,
 "nbformat_minor": 2
}
