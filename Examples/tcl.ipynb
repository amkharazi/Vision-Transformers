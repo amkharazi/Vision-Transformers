{
 "cells": [
  {
   "cell_type": "markdown",
   "metadata": {},
   "source": [
    "# Add to the path"
   ]
  },
  {
   "cell_type": "code",
   "execution_count": 2,
   "metadata": {},
   "outputs": [],
   "source": [
    "%load_ext autoreload\n",
    "%autoreload 2\n",
    "\n",
    "import sys\n",
    "sys.path.append('..')"
   ]
  },
  {
   "cell_type": "markdown",
   "metadata": {},
   "source": [
    "# Import Libraries"
   ]
  },
  {
   "cell_type": "code",
   "execution_count": 28,
   "metadata": {},
   "outputs": [],
   "source": [
    "from Tensorized_Layers.TCL import TCL\n",
    "from Utils.Num_parameter import count_parameters\n",
    "\n",
    "import torch\n",
    "import torch.nn as nn\n",
    "import time"
   ]
  },
  {
   "cell_type": "markdown",
   "metadata": {},
   "source": [
    "# Dummy Data"
   ]
  },
  {
   "cell_type": "code",
   "execution_count": 29,
   "metadata": {},
   "outputs": [
    {
     "name": "stdout",
     "output_type": "stream",
     "text": [
      "Current shape is : torch.Size([5, 14, 14, 16, 16, 3])\n"
     ]
    }
   ],
   "source": [
    "device = 'cuda'\n",
    "batch_size = 5\n",
    "dummy = torch.rand(batch_size, 14, 14, 16, 16, 3).to(device)\n",
    "print(f'Current shape is : {dummy.shape}')"
   ]
  },
  {
   "cell_type": "markdown",
   "metadata": {},
   "source": [
    "# TCL\n",
    "- input size is (5, 14, 14, 16, 16, 3)\n",
    "- ranks are (16,16,3) # excluding the ignored modes\n",
    "- ignored modes are 0: batch , 1:patch index 1, 2: patch index 2\n",
    "- device is set to cuda\n",
    "- output shape is ignore modes + ranks"
   ]
  },
  {
   "cell_type": "code",
   "execution_count": 30,
   "metadata": {},
   "outputs": [
    {
     "name": "stdout",
     "output_type": "stream",
     "text": [
      "output shape of tcl: torch.Size([5, 14, 14, 16, 16, 3])\n",
      "This tcl has 1289 parameters\n",
      "This tcl took : 0.000270843505859375\n"
     ]
    }
   ],
   "source": [
    "tcl = TCL(input_size=(5,14,14,16,16,3),\n",
    "            rank=(16,16,3),\n",
    "            ignore_modes=(0,1,2),\n",
    "            bias = True,\n",
    "            device='cuda'\n",
    "            ).to('cuda')\n",
    "st = time.time()\n",
    "output = tcl(dummy)\n",
    "elapsed = time.time() - st\n",
    "print(f'output shape of tcl: {output.shape}')\n",
    "\n",
    "print(f'This tcl has {count_parameters(tcl)} parameters')\n",
    "print(f'This tcl took : {elapsed}')"
   ]
  },
  {
   "cell_type": "code",
   "execution_count": 31,
   "metadata": {},
   "outputs": [
    {
     "name": "stdout",
     "output_type": "stream",
     "text": [
      "b cuda:0\n",
      "factors.0 cuda:0\n",
      "factors.1 cuda:0\n",
      "factors.2 cuda:0\n"
     ]
    }
   ],
   "source": [
    "for key in tcl.state_dict():\n",
    "    print(key, tcl.state_dict()[key].device)"
   ]
  },
  {
   "cell_type": "code",
   "execution_count": 32,
   "metadata": {},
   "outputs": [],
   "source": [
    "temp_loss = nn.CrossEntropyLoss()\n",
    "temp_y = torch.randint(0, 14, (output.shape[0], output.shape[2], output.shape[3], output.shape[4], output.shape[5])).to(device)\n",
    "l = temp_loss(output, temp_y)\n",
    "l.backward()\n",
    "# If no error, Then is fine"
   ]
  },
  {
   "cell_type": "markdown",
   "metadata": {},
   "source": [
    "# Compare to tltorch TRL from Tensorly"
   ]
  },
  {
   "cell_type": "code",
   "execution_count": 33,
   "metadata": {},
   "outputs": [
    {
     "name": "stdout",
     "output_type": "stream",
     "text": [
      "Current shape is : torch.Size([5, 16, 16, 3])\n"
     ]
    }
   ],
   "source": [
    "device = 'cuda'\n",
    "batch_size = 5\n",
    "dummy = torch.rand(batch_size, 16, 16, 3).to(device)\n",
    "print(f'Current shape is : {dummy.shape}')"
   ]
  },
  {
   "cell_type": "markdown",
   "metadata": {},
   "source": [
    "## Forward Pass"
   ]
  },
  {
   "cell_type": "code",
   "execution_count": 34,
   "metadata": {},
   "outputs": [
    {
     "name": "stdout",
     "output_type": "stream",
     "text": [
      "output shape of tcl (our method): torch.Size([5, 16, 16, 3])\n",
      "This tcl (our method) has 521 parameters\n",
      "This tcl (our method) took : 0.00022101402282714844\n"
     ]
    }
   ],
   "source": [
    "tcl1 = TCL(input_size=dummy.shape,\n",
    "            rank=(16,16,3),\n",
    "            ignore_modes=(0,),\n",
    "            bias=False,\n",
    "            device = device\n",
    "            ).to(device)\n",
    "st = time.time()\n",
    "output1 = tcl1(dummy)\n",
    "elapsed = time.time() - st\n",
    "print(f'output shape of tcl (our method): {output1.shape}')\n",
    "\n",
    "print(f'This tcl (our method) has {count_parameters(tcl1)} parameters')\n",
    "print(f'This tcl (our method) took : {elapsed}')"
   ]
  },
  {
   "cell_type": "code",
   "execution_count": 36,
   "metadata": {},
   "outputs": [
    {
     "name": "stdout",
     "output_type": "stream",
     "text": [
      "output shape of trl (tltorch method): torch.Size([5, 16, 16, 3])\n",
      "This trl (tltorch method) has 521 parameters\n",
      "This trl (tltorch method) took : 0.0013196468353271484\n"
     ]
    }
   ],
   "source": [
    "import tltorch # doesnt work with bias\n",
    "\n",
    "tcl2 = tltorch.TCL(input_shape = (16,16,3), \n",
    "                   bias = False,\n",
    "                   rank = (16,16,3,)).to(device)\n",
    "st = time.time()\n",
    "output2 = tcl2(dummy)\n",
    "elapsed = time.time() - st\n",
    "print(f'output shape of trl (tltorch method): {output2.shape}')\n",
    "\n",
    "print(f'This trl (tltorch method) has {count_parameters(tcl2)} parameters')\n",
    "print(f'This trl (tltorch method) took : {elapsed}')"
   ]
  },
  {
   "cell_type": "markdown",
   "metadata": {},
   "source": [
    "## Backward Pass"
   ]
  },
  {
   "cell_type": "code",
   "execution_count": 37,
   "metadata": {},
   "outputs": [
    {
     "name": "stdout",
     "output_type": "stream",
     "text": [
      "This backward trl (our method) took : 0.0006608963012695312\n"
     ]
    }
   ],
   "source": [
    "temp_loss = nn.CrossEntropyLoss()\n",
    "temp_y = torch.randint(0, 16, (output1.shape[0], output1.shape[2], output1.shape[3])).to(device)\n",
    "st = time.time()\n",
    "l = temp_loss(output1, temp_y)\n",
    "l.backward()\n",
    "elapsed = time.time() - st\n",
    "print(f'This backward trl (our method) took : {elapsed}')"
   ]
  },
  {
   "cell_type": "code",
   "execution_count": 38,
   "metadata": {},
   "outputs": [
    {
     "name": "stdout",
     "output_type": "stream",
     "text": [
      "This backward trl (tltorch method) took : 0.0005712509155273438\n"
     ]
    }
   ],
   "source": [
    "temp_loss = nn.CrossEntropyLoss()\n",
    "temp_y = torch.randint(0, 16, (output2.shape[0], output2.shape[2], output2.shape[3])).to(device)\n",
    "st = time.time()\n",
    "l = temp_loss(output2, temp_y)\n",
    "l.backward()\n",
    "elapsed = time.time() - st\n",
    "print(f'This backward trl (tltorch method) took : {elapsed}')"
   ]
  }
 ],
 "metadata": {
  "kernelspec": {
   "display_name": "Python 3",
   "language": "python",
   "name": "python3"
  },
  "language_info": {
   "codemirror_mode": {
    "name": "ipython",
    "version": 3
   },
   "file_extension": ".py",
   "mimetype": "text/x-python",
   "name": "python",
   "nbconvert_exporter": "python",
   "pygments_lexer": "ipython3",
   "version": "3.10.12"
  }
 },
 "nbformat": 4,
 "nbformat_minor": 2
}
