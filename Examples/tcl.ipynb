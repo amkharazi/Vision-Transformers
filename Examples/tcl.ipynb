{
 "cells": [
  {
   "cell_type": "markdown",
   "metadata": {},
   "source": [
    "# Add to the path"
   ]
  },
  {
   "cell_type": "code",
   "execution_count": 1,
   "metadata": {},
   "outputs": [],
   "source": [
    "%load_ext autoreload\n",
    "%autoreload 2\n",
    "\n",
    "import sys\n",
    "sys.path.append('..')"
   ]
  },
  {
   "cell_type": "markdown",
   "metadata": {},
   "source": [
    "# Import Libraries"
   ]
  },
  {
   "cell_type": "code",
   "execution_count": 2,
   "metadata": {},
   "outputs": [],
   "source": [
    "from Tensorized_Layers.TCL import TCL\n",
    "from Utils.Num_parameter import count_parameters\n",
    "\n",
    "import torch\n",
    "import torch.nn as nn\n",
    "from torch import optim\n",
    "import time"
   ]
  },
  {
   "cell_type": "markdown",
   "metadata": {},
   "source": [
    "# Dummy Data"
   ]
  },
  {
   "cell_type": "code",
   "execution_count": 3,
   "metadata": {},
   "outputs": [
    {
     "name": "stdout",
     "output_type": "stream",
     "text": [
      "Current shape is : torch.Size([5, 14, 14, 16, 16, 3])\n"
     ]
    }
   ],
   "source": [
    "device = 'cuda'\n",
    "batch_size = 5\n",
    "dummy = torch.rand(batch_size, 14, 14, 16, 16, 3).to(device)\n",
    "print(f'Current shape is : {dummy.shape}')"
   ]
  },
  {
   "cell_type": "markdown",
   "metadata": {},
   "source": [
    "# TCL\n",
    "- input size is (5, 14, 14, 16, 16, 3)\n",
    "- ranks are (16,16,3) # excluding the ignored modes\n",
    "- ignored modes are 0: batch , 1:patch index 1, 2: patch index 2\n",
    "- device is set to cuda\n",
    "- output shape is ignore modes + ranks"
   ]
  },
  {
   "cell_type": "code",
   "execution_count": 4,
   "metadata": {},
   "outputs": [
    {
     "name": "stdout",
     "output_type": "stream",
     "text": [
      "output shape of tcl: torch.Size([5, 14, 14, 16, 16, 3])\n",
      "This tcl has 1289 parameters\n",
      "This tcl took : 0.027681350708007812\n"
     ]
    }
   ],
   "source": [
    "tcl = TCL(input_size=(5,14,14,16,16,3),\n",
    "            rank=(16,16,3),\n",
    "            ignore_modes=(0,1,2),\n",
    "            bias = True,\n",
    "            device='cuda'\n",
    "            ).to('cuda')\n",
    "st = time.time()\n",
    "output = tcl(dummy)\n",
    "elapsed = time.time() - st\n",
    "print(f'output shape of tcl: {output.shape}')\n",
    "\n",
    "print(f'This tcl has {count_parameters(tcl)} parameters')\n",
    "print(f'This tcl took : {elapsed}')"
   ]
  },
  {
   "cell_type": "code",
   "execution_count": 5,
   "metadata": {},
   "outputs": [
    {
     "name": "stdout",
     "output_type": "stream",
     "text": [
      "b cuda:0\n",
      "u0 cuda:0\n",
      "u1 cuda:0\n",
      "u2 cuda:0\n"
     ]
    }
   ],
   "source": [
    "for key in tcl.state_dict():\n",
    "    print(key, tcl.state_dict()[key].device)"
   ]
  },
  {
   "cell_type": "code",
   "execution_count": 6,
   "metadata": {},
   "outputs": [
    {
     "name": "stdout",
     "output_type": "stream",
     "text": [
      "torch.Size([16, 16, 3]) cuda:0 cuda:0\n",
      "torch.Size([16, 16]) cuda:0 cuda:0\n",
      "torch.Size([16, 16]) cuda:0 cuda:0\n",
      "torch.Size([3, 3]) cuda:0 cuda:0\n",
      "second backward\n",
      "torch.Size([16, 16, 3]) cuda:0 cuda:0\n",
      "torch.Size([16, 16]) cuda:0 cuda:0\n",
      "torch.Size([16, 16]) cuda:0 cuda:0\n",
      "torch.Size([3, 3]) cuda:0 cuda:0\n"
     ]
    }
   ],
   "source": [
    "new_classifier = nn.Sequential(\n",
    "    tcl,\n",
    "    nn.Flatten(),\n",
    "    nn.Linear(150528,2)\n",
    ").to(device)\n",
    "\n",
    "criterion = nn.CrossEntropyLoss()\n",
    "optimizer = optim.Adam(new_classifier.parameters())\n",
    "\n",
    "temp_y = torch.randint(0, 2, (dummy.shape[0],)).to(device)\n",
    "\n",
    "optimizer.zero_grad()    \n",
    "outputs = new_classifier(dummy)\n",
    "loss = criterion(outputs, temp_y)\n",
    "loss.backward()\n",
    "for p in tcl.parameters():\n",
    "    print(p.shape, p.device, p.grad.device)\n",
    "optimizer.step()\n",
    "\n",
    "print('second backward')\n",
    "optimizer.zero_grad()    \n",
    "outputs = new_classifier(dummy)\n",
    "loss = criterion(outputs, temp_y)\n",
    "loss.backward()\n",
    "for p in tcl.parameters():\n",
    "    print(p.shape, p.device, p.grad.device)\n",
    "optimizer.step()"
   ]
  },
  {
   "cell_type": "markdown",
   "metadata": {},
   "source": [
    "# Compare to tltorch TRL from Tensorly"
   ]
  },
  {
   "cell_type": "code",
   "execution_count": 7,
   "metadata": {},
   "outputs": [
    {
     "name": "stdout",
     "output_type": "stream",
     "text": [
      "Current shape is : torch.Size([5, 16, 16, 3])\n"
     ]
    }
   ],
   "source": [
    "device = 'cuda'\n",
    "batch_size = 5\n",
    "dummy = torch.rand(batch_size, 16, 16, 3).to(device)\n",
    "print(f'Current shape is : {dummy.shape}')"
   ]
  },
  {
   "cell_type": "markdown",
   "metadata": {},
   "source": [
    "## Forward Pass"
   ]
  },
  {
   "cell_type": "code",
   "execution_count": 8,
   "metadata": {},
   "outputs": [
    {
     "name": "stdout",
     "output_type": "stream",
     "text": [
      "output shape of tcl (our method): torch.Size([5, 16, 16, 3])\n",
      "This tcl (our method) has 521 parameters\n",
      "This tcl (our method) took : 0.0002510547637939453\n"
     ]
    }
   ],
   "source": [
    "tcl1 = TCL(input_size=dummy.shape,\n",
    "            rank=(16,16,3),\n",
    "            ignore_modes=(0,),\n",
    "            bias=False,\n",
    "            device = device\n",
    "            ).to(device)\n",
    "st = time.time()\n",
    "output1 = tcl1(dummy)\n",
    "elapsed = time.time() - st\n",
    "print(f'output shape of tcl (our method): {output1.shape}')\n",
    "\n",
    "print(f'This tcl (our method) has {count_parameters(tcl1)} parameters')\n",
    "print(f'This tcl (our method) took : {elapsed}')"
   ]
  },
  {
   "cell_type": "code",
   "execution_count": 9,
   "metadata": {},
   "outputs": [
    {
     "name": "stdout",
     "output_type": "stream",
     "text": [
      "output shape of trl (tltorch method): torch.Size([5, 16, 16, 3])\n",
      "This trl (tltorch method) has 521 parameters\n",
      "This trl (tltorch method) took : 0.00028324127197265625\n"
     ]
    },
    {
     "name": "stderr",
     "output_type": "stream",
     "text": [
      "/usr/lib/python3/dist-packages/scipy/__init__.py:146: UserWarning: A NumPy version >=1.17.3 and <1.25.0 is required for this version of SciPy (detected version 1.26.4\n",
      "  warnings.warn(f\"A NumPy version >={np_minversion} and <{np_maxversion}\"\n"
     ]
    }
   ],
   "source": [
    "import tltorch # doesnt work with bias\n",
    "\n",
    "tcl2 = tltorch.TCL(input_shape = (16,16,3), \n",
    "                   bias = False,\n",
    "                   rank = (16,16,3,)).to(device)\n",
    "st = time.time()\n",
    "output2 = tcl2(dummy)\n",
    "elapsed = time.time() - st\n",
    "print(f'output shape of trl (tltorch method): {output2.shape}')\n",
    "\n",
    "print(f'This trl (tltorch method) has {count_parameters(tcl2)} parameters')\n",
    "print(f'This trl (tltorch method) took : {elapsed}')"
   ]
  },
  {
   "cell_type": "markdown",
   "metadata": {},
   "source": [
    "## Backward Pass"
   ]
  },
  {
   "cell_type": "code",
   "execution_count": 10,
   "metadata": {},
   "outputs": [
    {
     "name": "stdout",
     "output_type": "stream",
     "text": [
      "This backward tcl (our method) took : 0.001107931137084961\n"
     ]
    }
   ],
   "source": [
    "new_classifier = nn.Sequential(\n",
    "    tcl1,\n",
    "    nn.Flatten(),\n",
    "    nn.Linear(16*16*3,2)\n",
    ").to(device)\n",
    "\n",
    "criterion = nn.CrossEntropyLoss()\n",
    "optimizer = optim.Adam(new_classifier.parameters())\n",
    "\n",
    "temp_y = torch.randint(0, 2, (dummy.shape[0],)).to(device)\n",
    "\n",
    "st = time.time()\n",
    "optimizer.zero_grad()    \n",
    "outputs = new_classifier(dummy)\n",
    "loss = criterion(outputs, temp_y)\n",
    "loss.backward()\n",
    "optimizer.step()\n",
    "elapsed = time.time() - st\n",
    "print(f'This backward tcl (our method) took : {elapsed}')\n"
   ]
  },
  {
   "cell_type": "code",
   "execution_count": 11,
   "metadata": {},
   "outputs": [
    {
     "name": "stdout",
     "output_type": "stream",
     "text": [
      "This backward tcl (tltorch method) took : 0.0012278556823730469\n"
     ]
    }
   ],
   "source": [
    "new_classifier = nn.Sequential(\n",
    "    tcl2,\n",
    "    nn.Flatten(),\n",
    "    nn.Linear(16*16*3,2)\n",
    ").to(device)\n",
    "\n",
    "criterion = nn.CrossEntropyLoss()\n",
    "optimizer = optim.Adam(new_classifier.parameters())\n",
    "\n",
    "temp_y = torch.randint(0, 2, (dummy.shape[0],)).to(device)\n",
    "\n",
    "st = time.time()\n",
    "optimizer.zero_grad()    \n",
    "outputs = new_classifier(dummy)\n",
    "loss = criterion(outputs, temp_y)\n",
    "loss.backward()\n",
    "optimizer.step()\n",
    "elapsed = time.time() - st\n",
    "print(f'This backward tcl (tltorch method) took : {elapsed}')\n"
   ]
  }
 ],
 "metadata": {
  "kernelspec": {
   "display_name": "Python 3",
   "language": "python",
   "name": "python3"
  },
  "language_info": {
   "codemirror_mode": {
    "name": "ipython",
    "version": 3
   },
   "file_extension": ".py",
   "mimetype": "text/x-python",
   "name": "python",
   "nbconvert_exporter": "python",
   "pygments_lexer": "ipython3",
   "version": "3.10.12"
  }
 },
 "nbformat": 4,
 "nbformat_minor": 2
}
