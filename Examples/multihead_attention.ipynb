{
 "cells": [
  {
   "cell_type": "markdown",
   "metadata": {},
   "source": [
    "# Add to the path"
   ]
  },
  {
   "cell_type": "code",
   "execution_count": 1,
   "metadata": {},
   "outputs": [],
   "source": [
    "%load_ext autoreload\n",
    "%autoreload 2\n",
    "\n",
    "import sys\n",
    "sys.path.append('..')"
   ]
  },
  {
   "cell_type": "markdown",
   "metadata": {},
   "source": [
    "# Import Libraries"
   ]
  },
  {
   "cell_type": "code",
   "execution_count": 2,
   "metadata": {},
   "outputs": [],
   "source": [
    "from Models.basic_components.multihead_attention import MultiHeadAttention as base_MHA\n",
    "from Models.tensorized_components.multihead_attention import MultiHeadAttention as tensorized_MHA\n",
    "from Models.basic_components.patch_embedding import PatchEmbedding as base_embedding\n",
    "from Models.tensorized_components.patch_embedding import PatchEmbedding as tensorized_embedding\n",
    "from Utils.Num_parameter import count_parameters\n",
    "\n",
    "import torch\n",
    "import torch.nn as nn\n",
    "import time"
   ]
  },
  {
   "cell_type": "markdown",
   "metadata": {},
   "source": [
    "# Dummy Data\n"
   ]
  },
  {
   "cell_type": "code",
   "execution_count": 3,
   "metadata": {},
   "outputs": [
    {
     "name": "stdout",
     "output_type": "stream",
     "text": [
      "Current shape is : torch.Size([16, 3, 224, 224])\n"
     ]
    }
   ],
   "source": [
    "device = 'cuda'\n",
    "batch_size = 16\n",
    "dummy = torch.rand(batch_size, 3, 224, 224).to(device)\n",
    "print(f'Current shape is : {dummy.shape}')"
   ]
  },
  {
   "cell_type": "markdown",
   "metadata": {},
   "source": [
    "# MHA base method\n",
    "\n",
    "1. Embedd using the base patch embedding method\n",
    "2. Apply it to the MHA"
   ]
  },
  {
   "cell_type": "code",
   "execution_count": 4,
   "metadata": {},
   "outputs": [
    {
     "name": "stdout",
     "output_type": "stream",
     "text": [
      "output shape of patch embedding : torch.Size([16, 196, 768])\n",
      "number of patches = 196\n",
      "This embedding has 590592 parameters\n",
      "This embedding took : 0.25943589210510254\n"
     ]
    }
   ],
   "source": [
    "st = time.time()\n",
    "embedding = base_embedding(patch_size = 16,\n",
    "                           in_channels= 3 ,\n",
    "                           embed_dim= 16*16*3).to(device)\n",
    "embedded_base = embedding(dummy)\n",
    "elapsed = time.time() - st\n",
    "print(f'output shape of patch embedding : {embedded_base.shape}\\nnumber of patches = {embedded_base.shape[1]}')\n",
    "\n",
    "print(f'This embedding has {count_parameters(embedding)} parameters')\n",
    "print(f'This embedding took : {elapsed}')"
   ]
  },
  {
   "cell_type": "code",
   "execution_count": 5,
   "metadata": {},
   "outputs": [
    {
     "name": "stdout",
     "output_type": "stream",
     "text": [
      "projection.weight\n",
      "projection.bias\n"
     ]
    }
   ],
   "source": [
    "for key in embedding.state_dict():\n",
    "    print(key)"
   ]
  },
  {
   "cell_type": "code",
   "execution_count": 6,
   "metadata": {},
   "outputs": [
    {
     "name": "stdout",
     "output_type": "stream",
     "text": [
      "MHA output shape is : torch.Size([16, 196, 768])\n",
      "Input of MHA shape was : torch.Size([16, 196, 768])\n",
      "This MHA has 2362368 parameters\n",
      "This MHA took : 0.02088165283203125\n"
     ]
    }
   ],
   "source": [
    "st = time.time()\n",
    "MHA = base_MHA(embed_dim= 768,\n",
    "               num_heads=4,\n",
    "               out_embed= True).to(device)\n",
    "result_mha = MHA(embedded_base)\n",
    "elapsed = time.time() - st\n",
    "print(f'MHA output shape is : {result_mha.shape}')\n",
    "print(f'Input of MHA shape was : {embedded_base.shape}')\n",
    "print(f'This MHA has {count_parameters(MHA)} parameters')\n",
    "print(f'This MHA took : {elapsed}')"
   ]
  },
  {
   "cell_type": "code",
   "execution_count": 7,
   "metadata": {},
   "outputs": [
    {
     "name": "stdout",
     "output_type": "stream",
     "text": [
      "query.weight\n",
      "query.bias\n",
      "key.weight\n",
      "key.bias\n",
      "value.weight\n",
      "value.bias\n",
      "fc_out.weight\n",
      "fc_out.bias\n"
     ]
    }
   ],
   "source": [
    "for key in MHA.state_dict():\n",
    "    print(key)"
   ]
  },
  {
   "cell_type": "code",
   "execution_count": 8,
   "metadata": {},
   "outputs": [],
   "source": [
    "temp_loss = nn.CrossEntropyLoss()\n",
    "temp_y = torch.randint(0, 192, (result_mha.shape[0], result_mha.shape[2])).to(device)\n",
    "l = temp_loss(result_mha, temp_y)\n",
    "l.backward()\n",
    "# If no error, Then is fine"
   ]
  },
  {
   "cell_type": "markdown",
   "metadata": {},
   "source": [
    "# MHA tensorized method\n",
    "\n",
    "1. Embedd using the tensorized patch embedding method\n",
    "2. Apply it to the MHA"
   ]
  },
  {
   "cell_type": "code",
   "execution_count": 13,
   "metadata": {},
   "outputs": [
    {
     "name": "stdout",
     "output_type": "stream",
     "text": [
      "output shape of patch embedding : torch.Size([16, 14, 14, 16, 16, 3])\n",
      "number pf patches = 14 x 14 = 196\n",
      "This embedding has 521 parameters\n",
      "This embedding took : 0.007994651794433594\n"
     ]
    }
   ],
   "source": [
    "st = time.time()\n",
    "embedding = tensorized_embedding(patch_size = 16,\n",
    "                                 in_channels= 3 ,\n",
    "                                 embed_dim= (16,16,3)).to(device)\n",
    "embedded_tensorized = embedding(dummy)\n",
    "elapsed = time.time() - st\n",
    "print(f'output shape of patch embedding : {embedded_tensorized.shape}\\nnumber pf patches = {embedded_tensorized.shape[1]} x {embedded_tensorized.shape[2]} = {embedded_tensorized.shape[1]*embedded_tensorized.shape[2]}')\n",
    "\n",
    "print(f'This embedding has {count_parameters(embedding)} parameters')\n",
    "print(f'This embedding took : {elapsed}')"
   ]
  },
  {
   "cell_type": "code",
   "execution_count": 14,
   "metadata": {},
   "outputs": [
    {
     "name": "stdout",
     "output_type": "stream",
     "text": [
      "w_h\n",
      "w_w\n",
      "w_c\n"
     ]
    }
   ],
   "source": [
    "for key in embedding.state_dict():\n",
    "    print(key)"
   ]
  },
  {
   "cell_type": "code",
   "execution_count": 15,
   "metadata": {},
   "outputs": [
    {
     "name": "stdout",
     "output_type": "stream",
     "text": [
      "torch.Size([16, 14, 14, 16, 16, 3])\n",
      "MHA output shape is : torch.Size([16, 14, 14, 16, 16, 3])\n",
      "Input of MHA shape was : torch.Size([16, 14, 14, 16, 16, 3])\n",
      "This MHA has 2084 parameters\n",
      "This MHA took : 0.12992429733276367\n"
     ]
    }
   ],
   "source": [
    "st = time.time()\n",
    "MHA = tensorized_MHA(embed_dim= (16,16,3),\n",
    "                     num_heads=(2,2,1),\n",
    "                     out_embed= True).to(device)\n",
    "result_mha = MHA(embedded_tensorized)\n",
    "elapsed = time.time() - st\n",
    "print(f'MHA output shape is : {result_mha.shape}')\n",
    "print(f'Input of MHA shape was : {embedded_tensorized.shape}')\n",
    "print(f'This MHA has {count_parameters(MHA)} parameters')\n",
    "print(f'This MHA took : {elapsed}')"
   ]
  },
  {
   "cell_type": "code",
   "execution_count": 16,
   "metadata": {},
   "outputs": [
    {
     "name": "stdout",
     "output_type": "stream",
     "text": [
      "w_e1_q\n",
      "w_e2_q\n",
      "w_e3_q\n",
      "w_e1_k\n",
      "w_e2_k\n",
      "w_e3_k\n",
      "w_e1_v\n",
      "w_e2_v\n",
      "w_e3_v\n",
      "w_e1_out\n",
      "w_e2_out\n",
      "w_e3_out\n"
     ]
    }
   ],
   "source": [
    "for key in MHA.state_dict():\n",
    "    print(key)"
   ]
  },
  {
   "cell_type": "code",
   "execution_count": 18,
   "metadata": {},
   "outputs": [],
   "source": [
    "temp_loss = nn.CrossEntropyLoss()\n",
    "temp_y = torch.randint(0, 14, (result_mha.shape[0], result_mha.shape[2], result_mha.shape[3], result_mha.shape[4], result_mha.shape[5])).to(device)\n",
    "l = temp_loss(result_mha, temp_y)\n",
    "l.backward()\n",
    "# If no error, Then is fine"
   ]
  }
 ],
 "metadata": {
  "kernelspec": {
   "display_name": "Python 3",
   "language": "python",
   "name": "python3"
  },
  "language_info": {
   "codemirror_mode": {
    "name": "ipython",
    "version": 3
   },
   "file_extension": ".py",
   "mimetype": "text/x-python",
   "name": "python",
   "nbconvert_exporter": "python",
   "pygments_lexer": "ipython3",
   "version": "3.10.12"
  }
 },
 "nbformat": 4,
 "nbformat_minor": 2
}
