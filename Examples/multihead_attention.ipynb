{
 "cells": [
  {
   "cell_type": "markdown",
   "metadata": {},
   "source": [
    "# Add to the path"
   ]
  },
  {
   "cell_type": "code",
   "execution_count": 1,
   "metadata": {},
   "outputs": [],
   "source": [
    "%load_ext autoreload\n",
    "%autoreload 2\n",
    "\n",
    "import sys\n",
    "sys.path.append('..')"
   ]
  },
  {
   "cell_type": "markdown",
   "metadata": {},
   "source": [
    "# Import Libraries"
   ]
  },
  {
   "cell_type": "code",
   "execution_count": 2,
   "metadata": {},
   "outputs": [],
   "source": [
    "from Models.basic_components.multihead_attention import MultiHeadAttention as base_MHA\n",
    "from Models.tensorized_components.multihead_attention import MultiHeadAttention as tensorized_MHA\n",
    "from Models.basic_components.patch_embedding import PatchEmbedding as base_embedding\n",
    "from Models.tensorized_components.patch_embedding import PatchEmbedding as tensorized_embedding\n",
    "from Utils.Num_parameter import count_parameters\n",
    "\n",
    "import torch\n",
    "import torch.nn as nn\n",
    "from torch import optim\n",
    "import time"
   ]
  },
  {
   "cell_type": "markdown",
   "metadata": {},
   "source": [
    "# Dummy Data\n"
   ]
  },
  {
   "cell_type": "code",
   "execution_count": 3,
   "metadata": {},
   "outputs": [
    {
     "name": "stdout",
     "output_type": "stream",
     "text": [
      "Current shape is : torch.Size([16, 3, 224, 224])\n"
     ]
    }
   ],
   "source": [
    "device = 'cuda'\n",
    "batch_size = 16\n",
    "dummy = torch.rand(batch_size, 3, 224, 224).to(device)\n",
    "print(f'Current shape is : {dummy.shape}')"
   ]
  },
  {
   "cell_type": "markdown",
   "metadata": {},
   "source": [
    "# MHA base method\n",
    "\n",
    "1. Embedd using the base patch embedding method\n",
    "2. Apply it to the MHA"
   ]
  },
  {
   "cell_type": "code",
   "execution_count": 4,
   "metadata": {},
   "outputs": [
    {
     "name": "stdout",
     "output_type": "stream",
     "text": [
      "output shape of patch embedding : torch.Size([16, 196, 768])\n",
      "number of patches = 196\n",
      "This embedding has 590592 parameters\n",
      "This embedding took : 0.264082670211792\n"
     ]
    }
   ],
   "source": [
    "st = time.time()\n",
    "embedding = base_embedding(input_size=dummy.shape,\n",
    "                           patch_size = 16,\n",
    "                           embed_dim= 16*16*3,\n",
    "                           bias=True,\n",
    "                           device=device,\n",
    "                           ignore_modes=None).to(device)\n",
    "embedded_base = embedding(dummy)\n",
    "elapsed = time.time() - st\n",
    "print(f'output shape of patch embedding : {embedded_base.shape}\\nnumber of patches = {embedded_base.shape[1]}')\n",
    "\n",
    "print(f'This embedding has {count_parameters(embedding)} parameters')\n",
    "print(f'This embedding took : {elapsed}')"
   ]
  },
  {
   "cell_type": "code",
   "execution_count": 5,
   "metadata": {},
   "outputs": [
    {
     "name": "stdout",
     "output_type": "stream",
     "text": [
      "projection.weight\n",
      "projection.bias\n"
     ]
    }
   ],
   "source": [
    "for key in embedding.state_dict():\n",
    "    print(key)"
   ]
  },
  {
   "cell_type": "code",
   "execution_count": 6,
   "metadata": {},
   "outputs": [
    {
     "name": "stdout",
     "output_type": "stream",
     "text": [
      "MHA output shape is : torch.Size([16, 196, 768])\n",
      "Input of MHA shape was : torch.Size([16, 196, 768])\n",
      "This MHA has 2362368 parameters\n",
      "This MHA took : 0.02145075798034668\n"
     ]
    }
   ],
   "source": [
    "st = time.time()\n",
    "MHA = base_MHA(input_size=dummy.shape,\n",
    "               patch_size=16,\n",
    "               embed_dim= 768,\n",
    "               num_heads=4,\n",
    "               bias=True,\n",
    "               out_embed= True,\n",
    "               device=device,\n",
    "               ignore_modes=None\n",
    "               ).to(device)\n",
    "result_mha = MHA(embedded_base)\n",
    "elapsed = time.time() - st\n",
    "print(f'MHA output shape is : {result_mha.shape}')\n",
    "print(f'Input of MHA shape was : {embedded_base.shape}')\n",
    "print(f'This MHA has {count_parameters(MHA)} parameters')\n",
    "print(f'This MHA took : {elapsed}')"
   ]
  },
  {
   "cell_type": "code",
   "execution_count": 7,
   "metadata": {},
   "outputs": [
    {
     "name": "stdout",
     "output_type": "stream",
     "text": [
      "query.weight\n",
      "query.bias\n",
      "key.weight\n",
      "key.bias\n",
      "value.weight\n",
      "value.bias\n",
      "fc_out.weight\n",
      "fc_out.bias\n"
     ]
    }
   ],
   "source": [
    "for key in MHA.state_dict():\n",
    "    print(key)"
   ]
  },
  {
   "cell_type": "code",
   "execution_count": 8,
   "metadata": {},
   "outputs": [
    {
     "name": "stdout",
     "output_type": "stream",
     "text": [
      "torch.Size([768, 768]) cuda:0 cuda:0\n",
      "torch.Size([768]) cuda:0 cuda:0\n",
      "torch.Size([768, 768]) cuda:0 cuda:0\n",
      "torch.Size([768]) cuda:0 cuda:0\n",
      "torch.Size([768, 768]) cuda:0 cuda:0\n",
      "torch.Size([768]) cuda:0 cuda:0\n",
      "torch.Size([768, 768]) cuda:0 cuda:0\n",
      "torch.Size([768]) cuda:0 cuda:0\n",
      "second backward\n",
      "torch.Size([768, 768]) cuda:0 cuda:0\n",
      "torch.Size([768]) cuda:0 cuda:0\n",
      "torch.Size([768, 768]) cuda:0 cuda:0\n",
      "torch.Size([768]) cuda:0 cuda:0\n",
      "torch.Size([768, 768]) cuda:0 cuda:0\n",
      "torch.Size([768]) cuda:0 cuda:0\n",
      "torch.Size([768, 768]) cuda:0 cuda:0\n",
      "torch.Size([768]) cuda:0 cuda:0\n"
     ]
    }
   ],
   "source": [
    "new_classifier = nn.Sequential(\n",
    "    embedding,\n",
    "    MHA,\n",
    "    nn.Flatten(),\n",
    "    nn.Linear(150528,2)\n",
    ").to(device)\n",
    "\n",
    "criterion = nn.CrossEntropyLoss()\n",
    "optimizer = optim.Adam(new_classifier.parameters())\n",
    "\n",
    "temp_y = torch.randint(0, 2, (embedded_base.shape[0],)).to(device)\n",
    "\n",
    "optimizer.zero_grad()    \n",
    "outputs = new_classifier(dummy)\n",
    "loss = criterion(outputs, temp_y)\n",
    "loss.backward()\n",
    "for p in MHA.parameters():\n",
    "    print(p.shape, p.device, p.grad.device)\n",
    "optimizer.step()\n",
    "\n",
    "print('second backward')\n",
    "optimizer.zero_grad()    \n",
    "outputs = new_classifier(dummy)\n",
    "loss = criterion(outputs, temp_y)\n",
    "loss.backward()\n",
    "for p in MHA.parameters():\n",
    "    print(p.shape, p.device, p.grad.device)\n",
    "optimizer.step()"
   ]
  },
  {
   "cell_type": "markdown",
   "metadata": {},
   "source": [
    "# MHA tensorized method\n",
    "\n",
    "1. Embedd using the tensorized patch embedding method\n",
    "2. Apply it to the MHA"
   ]
  },
  {
   "cell_type": "code",
   "execution_count": 9,
   "metadata": {},
   "outputs": [
    {
     "name": "stdout",
     "output_type": "stream",
     "text": [
      "output shape of patch embedding : torch.Size([16, 14, 14, 16, 16, 3])\n",
      "number pf patches = 14 x 14 = 196\n",
      "This embedding has 1289 parameters\n",
      "This embedding took : 0.0006999969482421875\n"
     ]
    }
   ],
   "source": [
    "st = time.time()\n",
    "embedding = tensorized_embedding(input_size=dummy.shape,\n",
    "                                 patch_size = 16,\n",
    "                                 embed_dim= (16,16,3),\n",
    "                                 bias=True,\n",
    "                                 device=device,\n",
    "                                 ignore_modes=(0,1,2)).to(device)\n",
    "embedded_tensorized = embedding(dummy)\n",
    "elapsed = time.time() - st\n",
    "print(f'output shape of patch embedding : {embedded_tensorized.shape}\\nnumber pf patches = {embedded_tensorized.shape[1]} x {embedded_tensorized.shape[2]} = {embedded_tensorized.shape[1]*embedded_tensorized.shape[2]}')\n",
    "\n",
    "print(f'This embedding has {count_parameters(embedding)} parameters')\n",
    "print(f'This embedding took : {elapsed}')"
   ]
  },
  {
   "cell_type": "code",
   "execution_count": 10,
   "metadata": {},
   "outputs": [
    {
     "name": "stdout",
     "output_type": "stream",
     "text": [
      "tcl.b\n",
      "tcl.u0\n",
      "tcl.u1\n",
      "tcl.u2\n"
     ]
    }
   ],
   "source": [
    "for key in embedding.state_dict():\n",
    "    print(key)"
   ]
  },
  {
   "cell_type": "code",
   "execution_count": 11,
   "metadata": {},
   "outputs": [
    {
     "name": "stdout",
     "output_type": "stream",
     "text": [
      "MHA output shape is : torch.Size([16, 14, 14, 16, 16, 3])\n",
      "Input of MHA shape was : torch.Size([16, 14, 14, 16, 16, 3])\n",
      "This MHA has 5156 parameters\n",
      "This MHA took : 0.0018830299377441406\n"
     ]
    }
   ],
   "source": [
    "st = time.time()\n",
    "MHA = tensorized_MHA(input_size=dummy.shape,\n",
    "                     patch_size=16,  \n",
    "                     embed_dim= (16,16,3),\n",
    "                     num_heads=(2,2,1),\n",
    "                     bias=True,\n",
    "                     out_embed= True,\n",
    "                     device=device,\n",
    "                     ignore_modes=(0,1,2)).to(device)\n",
    "result_mha = MHA(embedded_tensorized)\n",
    "elapsed = time.time() - st\n",
    "print(f'MHA output shape is : {result_mha.shape}')\n",
    "print(f'Input of MHA shape was : {embedded_tensorized.shape}')\n",
    "print(f'This MHA has {count_parameters(MHA)} parameters')\n",
    "print(f'This MHA took : {elapsed}')"
   ]
  },
  {
   "cell_type": "code",
   "execution_count": 12,
   "metadata": {},
   "outputs": [
    {
     "name": "stdout",
     "output_type": "stream",
     "text": [
      "tcl_q.b\n",
      "tcl_q.u0\n",
      "tcl_q.u1\n",
      "tcl_q.u2\n",
      "tcl_k.b\n",
      "tcl_k.u0\n",
      "tcl_k.u1\n",
      "tcl_k.u2\n",
      "tcl_v.b\n",
      "tcl_v.u0\n",
      "tcl_v.u1\n",
      "tcl_v.u2\n",
      "tcl_out.b\n",
      "tcl_out.u0\n",
      "tcl_out.u1\n",
      "tcl_out.u2\n"
     ]
    }
   ],
   "source": [
    "for key in MHA.state_dict():\n",
    "    print(key)"
   ]
  },
  {
   "cell_type": "code",
   "execution_count": 13,
   "metadata": {},
   "outputs": [
    {
     "name": "stdout",
     "output_type": "stream",
     "text": [
      "torch.Size([16, 16, 3]) cuda:0 cuda:0\n",
      "torch.Size([16, 16]) cuda:0 cuda:0\n",
      "torch.Size([16, 16]) cuda:0 cuda:0\n",
      "torch.Size([3, 3]) cuda:0 cuda:0\n",
      "torch.Size([16, 16, 3]) cuda:0 cuda:0\n",
      "torch.Size([16, 16]) cuda:0 cuda:0\n",
      "torch.Size([16, 16]) cuda:0 cuda:0\n",
      "torch.Size([3, 3]) cuda:0 cuda:0\n",
      "torch.Size([16, 16, 3]) cuda:0 cuda:0\n",
      "torch.Size([16, 16]) cuda:0 cuda:0\n",
      "torch.Size([16, 16]) cuda:0 cuda:0\n",
      "torch.Size([3, 3]) cuda:0 cuda:0\n",
      "torch.Size([16, 16, 3]) cuda:0 cuda:0\n",
      "torch.Size([16, 16]) cuda:0 cuda:0\n",
      "torch.Size([16, 16]) cuda:0 cuda:0\n",
      "torch.Size([3, 3]) cuda:0 cuda:0\n",
      "second backward\n",
      "torch.Size([16, 16, 3]) cuda:0 cuda:0\n",
      "torch.Size([16, 16]) cuda:0 cuda:0\n",
      "torch.Size([16, 16]) cuda:0 cuda:0\n",
      "torch.Size([3, 3]) cuda:0 cuda:0\n",
      "torch.Size([16, 16, 3]) cuda:0 cuda:0\n",
      "torch.Size([16, 16]) cuda:0 cuda:0\n",
      "torch.Size([16, 16]) cuda:0 cuda:0\n",
      "torch.Size([3, 3]) cuda:0 cuda:0\n",
      "torch.Size([16, 16, 3]) cuda:0 cuda:0\n",
      "torch.Size([16, 16]) cuda:0 cuda:0\n",
      "torch.Size([16, 16]) cuda:0 cuda:0\n",
      "torch.Size([3, 3]) cuda:0 cuda:0\n",
      "torch.Size([16, 16, 3]) cuda:0 cuda:0\n",
      "torch.Size([16, 16]) cuda:0 cuda:0\n",
      "torch.Size([16, 16]) cuda:0 cuda:0\n",
      "torch.Size([3, 3]) cuda:0 cuda:0\n"
     ]
    }
   ],
   "source": [
    "new_classifier = nn.Sequential(\n",
    "    embedding,\n",
    "    MHA,\n",
    "    nn.Flatten(),\n",
    "    nn.Linear(150528,2)\n",
    ").to(device)\n",
    "\n",
    "criterion = nn.CrossEntropyLoss()\n",
    "optimizer = optim.Adam(new_classifier.parameters())\n",
    "\n",
    "temp_y = torch.randint(0, 2, (embedded_base.shape[0],)).to(device)\n",
    "\n",
    "optimizer.zero_grad()    \n",
    "outputs = new_classifier(dummy)\n",
    "loss = criterion(outputs, temp_y)\n",
    "loss.backward()\n",
    "for p in MHA.parameters():\n",
    "    print(p.shape, p.device, p.grad.device)\n",
    "optimizer.step()\n",
    "\n",
    "print('second backward')\n",
    "optimizer.zero_grad()    \n",
    "outputs = new_classifier(dummy)\n",
    "loss = criterion(outputs, temp_y)\n",
    "loss.backward()\n",
    "for p in MHA.parameters():\n",
    "    print(p.shape, p.device, p.grad.device)\n",
    "optimizer.step()"
   ]
  }
 ],
 "metadata": {
  "kernelspec": {
   "display_name": "Python 3",
   "language": "python",
   "name": "python3"
  },
  "language_info": {
   "codemirror_mode": {
    "name": "ipython",
    "version": 3
   },
   "file_extension": ".py",
   "mimetype": "text/x-python",
   "name": "python",
   "nbconvert_exporter": "python",
   "pygments_lexer": "ipython3",
   "version": "3.10.12"
  }
 },
 "nbformat": 4,
 "nbformat_minor": 2
}
