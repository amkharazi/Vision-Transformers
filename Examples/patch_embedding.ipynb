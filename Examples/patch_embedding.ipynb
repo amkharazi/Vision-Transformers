{
 "cells": [
  {
   "cell_type": "markdown",
   "metadata": {},
   "source": [
    "# Add to the path"
   ]
  },
  {
   "cell_type": "code",
   "execution_count": 2,
   "metadata": {},
   "outputs": [],
   "source": [
    "%load_ext autoreload\n",
    "%autoreload 2\n",
    "\n",
    "import sys\n",
    "sys.path.append('..')"
   ]
  },
  {
   "cell_type": "markdown",
   "metadata": {},
   "source": [
    "# Import Libraries"
   ]
  },
  {
   "cell_type": "code",
   "execution_count": 3,
   "metadata": {},
   "outputs": [],
   "source": [
    "from Models.basic_components.patch_embedding import PatchEmbedding as base_embedding\n",
    "from Models.tensorized_components.patch_embedding import PatchEmbedding as tensorized_embedding\n",
    "from Utils.Num_parameter import count_parameters\n",
    "\n",
    "import torch\n",
    "import time"
   ]
  },
  {
   "cell_type": "markdown",
   "metadata": {},
   "source": [
    "# Dummy Data"
   ]
  },
  {
   "cell_type": "code",
   "execution_count": 4,
   "metadata": {},
   "outputs": [
    {
     "name": "stdout",
     "output_type": "stream",
     "text": [
      "Current shape is : torch.Size([16, 3, 224, 224])\n"
     ]
    }
   ],
   "source": [
    "batch_size = 16\n",
    "dummy = torch.rand(batch_size, 3, 224, 224)\n",
    "print(f'Current shape is : {dummy.shape}')"
   ]
  },
  {
   "cell_type": "markdown",
   "metadata": {},
   "source": [
    "# Patch Embedding Base method"
   ]
  },
  {
   "cell_type": "code",
   "execution_count": 6,
   "metadata": {},
   "outputs": [
    {
     "name": "stdout",
     "output_type": "stream",
     "text": [
      "output shape of patch embedding : torch.Size([16, 196, 768])\n",
      "number of patches = 196\n",
      "This embedding has 590592 parameters\n",
      "This embedding took : 0.22787022590637207\n"
     ]
    }
   ],
   "source": [
    "st = time.time()\n",
    "embedding = base_embedding(patch_size = 16,\n",
    "                           in_channels= 3 ,\n",
    "                           embed_dim= 16*16*3)\n",
    "embedded = embedding(dummy)\n",
    "elapsed = time.time() - st\n",
    "print(f'output shape of patch embedding : {embedded.shape}\\nnumber of patches = {embedded.shape[1]}')\n",
    "\n",
    "print(f'This embedding has {count_parameters(embedding)} parameters')\n",
    "print(f'This embedding took : {elapsed}')"
   ]
  },
  {
   "cell_type": "markdown",
   "metadata": {},
   "source": [
    "# Patch Embedding Tensorized method"
   ]
  },
  {
   "cell_type": "code",
   "execution_count": 7,
   "metadata": {},
   "outputs": [
    {
     "name": "stdout",
     "output_type": "stream",
     "text": [
      "output shape of patch embedding : torch.Size([16, 14, 14, 16, 16, 3])\n",
      "number pf patches = 14 x 14 = 196\n",
      "This embedding has 521 parameters\n",
      "This embedding took : 0.6226444244384766\n"
     ]
    }
   ],
   "source": [
    "st = time.time()\n",
    "embedding = tensorized_embedding(patch_size = 16,\n",
    "                                 in_channels= 3 ,\n",
    "                                 embed_dim= (16,16,3))\n",
    "embedded = embedding(dummy)\n",
    "elapsed = time.time() - st\n",
    "print(f'output shape of patch embedding : {embedded.shape}\\nnumber pf patches = {embedded.shape[1]} x {embedded.shape[2]} = {embedded.shape[1]*embedded.shape[2]}')\n",
    "\n",
    "print(f'This embedding has {count_parameters(embedding)} parameters')\n",
    "print(f'This embedding took : {elapsed}')"
   ]
  }
 ],
 "metadata": {
  "kernelspec": {
   "display_name": "Python 3",
   "language": "python",
   "name": "python3"
  },
  "language_info": {
   "codemirror_mode": {
    "name": "ipython",
    "version": 3
   },
   "file_extension": ".py",
   "mimetype": "text/x-python",
   "name": "python",
   "nbconvert_exporter": "python",
   "pygments_lexer": "ipython3",
   "version": "3.10.0"
  }
 },
 "nbformat": 4,
 "nbformat_minor": 2
}
